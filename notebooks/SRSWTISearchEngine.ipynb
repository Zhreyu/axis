{
 "cells": [
  {
   "cell_type": "markdown",
   "metadata": {},
   "source": [
    "###############################################################################\n",
    "# SRSWTISearchEngine\n",
    "###############################################################################"
   ]
  },
  {
   "cell_type": "code",
   "execution_count": null,
   "metadata": {},
   "outputs": [
    {
     "name": "stderr",
     "output_type": "stream",
     "text": [
      "/home/zhreyas/miniconda3/envs/torch/lib/python3.11/site-packages/tqdm/auto.py:21: TqdmWarning: IProgress not found. Please update jupyter and ipywidgets. See https://ipywidgets.readthedocs.io/en/stable/user_install.html\n",
      "  from .autonotebook import tqdm as notebook_tqdm\n",
      "2025-03-10 20:12:43.462643: E external/local_xla/xla/stream_executor/cuda/cuda_fft.cc:477] Unable to register cuFFT factory: Attempting to register factory for plugin cuFFT when one has already been registered\n",
      "WARNING: All log messages before absl::InitializeLog() is called are written to STDERR\n",
      "E0000 00:00:1741617763.481219 1096918 cuda_dnn.cc:8310] Unable to register cuDNN factory: Attempting to register factory for plugin cuDNN when one has already been registered\n",
      "E0000 00:00:1741617763.486697 1096918 cuda_blas.cc:1418] Unable to register cuBLAS factory: Attempting to register factory for plugin cuBLAS when one has already been registered\n",
      "2025-03-10 20:12:43.506719: I tensorflow/core/platform/cpu_feature_guard.cc:210] This TensorFlow binary is optimized to use available CPU instructions in performance-critical operations.\n",
      "To enable the following instructions: AVX2 FMA, in other operations, rebuild TensorFlow with the appropriate compiler flags.\n",
      "INFO:datasets:PyTorch version 2.5.0 available.\n",
      "INFO:datasets:TensorFlow version 2.18.0 available.\n",
      "INFO:datasets:JAX version 0.5.2 available.\n",
      "INFO:SRSWTI:SRSWTI Text Analysis Engine initialized successfully\n"
     ]
    },
    {
     "data": {
      "text/html": [
       "<pre style=\"white-space:pre;overflow-x:auto;line-height:normal;font-family:Menlo,'DejaVu Sans Mono',consolas,'Courier New',monospace\"></pre>\n"
      ],
      "text/plain": []
     },
     "metadata": {},
     "output_type": "display_data"
    }
   ],
   "source": [
    "# ---------------------------  Imports ------------------------------\n",
    "from srswti_axis import SRSWTISearchEngine\n",
    "from utils import *"
   ]
  },
  {
   "cell_type": "markdown",
   "metadata": {},
   "source": [
    "# ---------------------------  Basic Demos ------------------------\n"
   ]
  },
  {
   "cell_type": "code",
   "execution_count": 2,
   "metadata": {},
   "outputs": [
    {
     "name": "stderr",
     "output_type": "stream",
     "text": [
      "INFO:sentence_transformers.SentenceTransformer:Use pytorch device_name: cuda\n",
      "INFO:sentence_transformers.SentenceTransformer:Load pretrained SentenceTransformer: all-mpnet-base-v2\n",
      "INFO:SRSWTI-IR:SRSWTI Search Engine initialized successfully\n"
     ]
    }
   ],
   "source": [
    "search_engine = SRSWTISearchEngine()\n",
    "index_docs = [\n",
    "    \"Advances in AI for drug discovery\",\n",
    "    \"AI ethics and regulatory considerations\",\n",
    "    \"Computer vision in autonomous vehicles\",\n",
    "    \"Neural style transfer for digital art\"\n",
    "]"
   ]
  },
  {
   "cell_type": "code",
   "execution_count": null,
   "metadata": {},
   "outputs": [
    {
     "name": "stderr",
     "output_type": "stream",
     "text": [
      "Batches: 100%|██████████| 1/1 [00:00<00:00,  2.85it/s]\n",
      "Batches: 100%|██████████| 1/1 [00:00<00:00, 82.20it/s]"
     ]
    },
    {
     "name": "stdout",
     "output_type": "stream",
     "text": [
      "== SearchEngine 1 ==\n",
      "[(np.int64(1), 0.8807970779778823), (np.int64(0), 0.3946837275773923), (np.int64(2), 0.062380325510358256), (np.int64(3), 0.05960146101105877)] \n",
      "\n"
     ]
    },
    {
     "name": "stderr",
     "output_type": "stream",
     "text": [
      "\n"
     ]
    }
   ],
   "source": [
    "# Perform hybrid search combining BM25, semantic and proximity scoring\n",
    "# Query \"AI regulation\" is searched against our index_docs collection\n",
    "search_res_1 = search_engine.hybrid_search(\"AI regulation\", index_docs)\n",
    "print(\"== SearchEngine 1 ==\")\n",
    "# Results will be returned as a list of (document, score) tuples\n",
    "# where documents are ranked by relevance to the query\n",
    "print(search_res_1, \"\\n\")"
   ]
  },
  {
   "cell_type": "code",
   "execution_count": null,
   "metadata": {},
   "outputs": [
    {
     "name": "stderr",
     "output_type": "stream",
     "text": [
      "Batches: 100%|██████████| 1/1 [00:00<00:00, 49.57it/s]\n",
      "Batches: 100%|██████████| 1/1 [00:00<00:00, 60.04it/s]\n",
      "ERROR:SRSWTI-IR:Error in hybrid search: 'cross_encoder'\n"
     ]
    },
    {
     "name": "stdout",
     "output_type": "stream",
     "text": [
      "== SearchEngine 2 ==\n",
      "[(0, 0.0), (1, 0.0), (2, 0.0), (3, 0.0)] \n",
      "\n"
     ]
    }
   ],
   "source": [
    "# Define custom weights for the hybrid search components\n",
    "# - bm25: Term-based relevancy scoring (70% weight)\n",
    "# - semantic: Meaning-based matching (20% weight)\n",
    "# - proximity: Term closeness in document (10% weight)\n",
    "custom_weights = {'bm25':0.7, 'semantic':0.2, 'proximity':0.1}\n",
    "\n",
    "# Perform hybrid search with custom weights on query \"AI for art\"\n",
    "# This gives us more control over which search aspects we prioritize\n",
    "search_res_2 = search_engine.hybrid_search(\"AI for art\", index_docs, weights=custom_weights)\n",
    "\n",
    "# Display the search results with custom weights\n",
    "print(\"== SearchEngine 2 ==\")\n",
    "print(search_res_2, \"\\n\")"
   ]
  },
  {
   "cell_type": "markdown",
   "metadata": {},
   "source": [
    "# ------------------- RAG Demos ---------------------\n"
   ]
  },
  {
   "cell_type": "code",
   "execution_count": null,
   "metadata": {},
   "outputs": [],
   "source": [
    "\n",
    "def rag_demo_a(user_query, docs=SAMPLE_DOCS):\n",
    "    \"\"\"\n",
    "    Demonstrates a RAG (Retrieval-Augmented Generation) system using hybrid search.\n",
    "    \n",
    "    This function retrieves the most relevant document for the user query using \n",
    "    hybrid search, then passes the query and retrieved document to an LLM to \n",
    "    generate a response.\n",
    "    \n",
    "    Args:\n",
    "        user_query (str): The question or query from the user\n",
    "        docs (list): Collection of documents to search through (default: SAMPLE_DOCS)\n",
    "        \n",
    "    Returns:\n",
    "        None: Prints the LLM response to the console\n",
    "    \"\"\"\n",
    "    if not docs:\n",
    "        print(\"[Theorem12 RAG Demo A] No docs.\")\n",
    "        return\n",
    "    res = search_engine.hybrid_search(user_query, docs)\n",
    "    if res:\n",
    "        top_doc, score = max(res, key=lambda x: x[1])\n",
    "    else:\n",
    "        top_doc, score = \"No doc\", 0\n",
    "    prompt = f\"User query: {user_query}\\nTop doc: {top_doc} (score={score})\\nAnswer the query.\"\n",
    "    resp = call_groq_llm(prompt)\n",
    "    print(\"[Theorem12 RAG Demo A] LLM:\\n\", resp, \"\\n\")\n",
    "\n",
    "def rag_demo_b(user_query, docs=SAMPLE_DOCS):\n",
    "    \"\"\"\n",
    "    Alternative RAG implementation focusing on document relevance explanation.\n",
    "    \n",
    "    This function retrieves the most relevant document for the user query,\n",
    "    then asks the LLM to specifically explain how the document relates to \n",
    "    the user's query.\n",
    "    \n",
    "    Args:\n",
    "        user_query (str): The question or query from the user\n",
    "        docs (list): Collection of documents to search through (default: SAMPLE_DOCS)\n",
    "        \n",
    "    Returns:\n",
    "        None: Prints the LLM response to the console\n",
    "    \"\"\"\n",
    "    if not docs:\n",
    "        print(\"[Theorem12 RAG Demo B] No docs.\")\n",
    "        return\n",
    "    res = search_engine.hybrid_search(user_query, docs)\n",
    "    if res:\n",
    "        top_doc, sc = max(res, key=lambda x: x[1])\n",
    "    else:\n",
    "        top_doc, sc = \"No doc\", 0\n",
    "    prompt = (\n",
    "        f\"User query: {user_query}\\n \\nTop doc: {top_doc}\\n\"\n",
    "        \"Explain how it addresses the user query.\"\n",
    "    )\n",
    "    resp = call_groq_llm(prompt)\n",
    "    print(\"[Theorem12 RAG Demo B] LLM:\\n\", resp, \"\\n\")\n"
   ]
  },
  {
   "cell_type": "code",
   "execution_count": null,
   "metadata": {},
   "outputs": [
    {
     "name": "stderr",
     "output_type": "stream",
     "text": [
      "Batches: 100%|██████████| 1/1 [00:00<00:00, 51.32it/s]\n",
      "Batches: 100%|██████████| 1/1 [00:00<00:00, 23.31it/s]\n"
     ]
    },
    {
     "name": "stdout",
     "output_type": "stream",
     "text": [
      "[Theorem12 RAG Demo A] LLM:\n",
      " [Groq LLM] The use of blockchain technology for medical records is a growing trend in the healthcare industry. Blockchain, also known as distributed ledger technology, allows for secure, transparent, and tamper-proof storage and sharing of medical records.\n",
      "\n",
      "Here are some key benefits of using blockchain for medical records:\n",
      "\n",
      "1. **Security**: Blockchain technology uses advanced cryptography to secure medical records, making it difficult for unauthorized parties to access or alter them.\n",
      "2. **Interoperability**: Blockchain enables the creation of a unified, decentralized system for storing and sharing medical records, making it easier for healthcare providers to access and share patient information.\n",
      "3. **Data integrity**: Blockchain ensures that medical records are accurate and tamper-proof, reducing the risk of errors or alterations.\n",
      "4. **Patient control**: Blockchain gives patients control over their medical records, allowing them to grant access to specific healthcare providers or revoke access as needed.\n",
      "5. **Efficient data sharing**: Blockchain enables fast and efficient sharing of medical records between healthcare providers, reducing the need for manual data transfer and minimizing the risk of errors.\n",
      "\n",
      "Some potential applications of blockchain in medical records include:\n",
      "\n",
      "1. **Electronic health records (EHRs)**: Blockchain-based EHRs can provide a secure and decentralized way to store and share patient medical information.\n",
      "2. **Personal health records (PHRs)**: Blockchain-based PHRs can give patients control over their medical records and enable them to share their health information with healthcare providers.\n",
      "3. **Medical research**: Blockchain can facilitate secure and transparent sharing of medical research data, enabling researchers to collaborate more efficiently.\n",
      "4. **Clinical trials**: Blockchain can help ensure the integrity and accuracy of clinical trial data, enabling researchers to track and verify the results of clinical trials.\n",
      "\n",
      "However, there are also challenges and limitations to consider when implementing blockchain for medical records, such as:\n",
      "\n",
      "1. **Scalability**: Blockchain technology is still in its early stages, and scalability remains a challenge for large-scale adoption.\n",
      "2. **Regulation**: There is a need for clear regulations and standards for the use of blockchain in medical records.\n",
      "3. **Interoperability**: Ensuring interoperability between different blockchain systems and existing healthcare systems can be a challenge.\n",
      "4. **Patient adoption**: Encouraging patients to adopt and use blockchain-based medical records systems can be a challenge.\n",
      "\n",
      "Overall, the use of blockchain for medical records has the potential to revolutionize the way healthcare providers store, share, and manage patient information, but it requires careful consideration of the challenges and limitations involved. \n",
      "\n"
     ]
    }
   ],
   "source": [
    "rag_demo_a(\"blockchain for medical records\", SAMPLE_DOCS)"
   ]
  },
  {
   "cell_type": "code",
   "execution_count": null,
   "metadata": {},
   "outputs": [
    {
     "name": "stderr",
     "output_type": "stream",
     "text": [
      "Batches: 100%|██████████| 1/1 [00:00<00:00, 90.28it/s]\n",
      "Batches: 100%|██████████| 1/1 [00:00<00:00, 23.83it/s]\n"
     ]
    },
    {
     "name": "stdout",
     "output_type": "stream",
     "text": [
      "[Theorem12 RAG Demo B] LLM:\n",
      " [Groq LLM] The top doc with a score of 2 likely addresses the user query \"crypto\" by providing information related to cryptocurrency. Here's how it might address the query:\n",
      "\n",
      "1. **Relevance**: The document probably contains relevant information about cryptocurrency, such as its definition, types (e.g., Bitcoin, Ethereum), uses, and trends.\n",
      "2. **Key terms**: The document may include key terms related to cryptocurrency, like \"blockchain,\" \"mining,\" \"wallet,\" and \"exchange,\" which are essential concepts in the crypto space.\n",
      "3. **Introduction or overview**: The document might serve as an introduction or overview of the crypto world, covering its history, benefits, and risks, making it a useful resource for users new to cryptocurrency.\n",
      "4. **Answers to common questions**: The document may answer common questions about crypto, such as \"What is cryptocurrency?\", \"How does it work?\", or \"Is it a good investment?\", providing a solid foundation for users to understand the subject.\n",
      "\n",
      "By covering these aspects, the top doc with a score of 2 likely provides a comprehensive and informative response to the user query \"crypto\". \n",
      "\n"
     ]
    }
   ],
   "source": [
    "rag_demo_b(\"crypto\", SAMPLE_DOCS)"
   ]
  },
  {
   "cell_type": "code",
   "execution_count": null,
   "metadata": {},
   "outputs": [],
   "source": []
  }
 ],
 "metadata": {
  "kernelspec": {
   "display_name": "torch",
   "language": "python",
   "name": "python3"
  },
  "language_info": {
   "codemirror_mode": {
    "name": "ipython",
    "version": 3
   },
   "file_extension": ".py",
   "mimetype": "text/x-python",
   "name": "python",
   "nbconvert_exporter": "python",
   "pygments_lexer": "ipython3",
   "version": "3.11.11"
  }
 },
 "nbformat": 4,
 "nbformat_minor": 2
}
