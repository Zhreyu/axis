{
 "cells": [
  {
   "cell_type": "markdown",
   "metadata": {},
   "source": [
    "###############################################################################\n",
    "# SRSWTIMultilingualTranslator\n",
    "###############################################################################\n"
   ]
  },
  {
   "cell_type": "code",
   "execution_count": null,
   "metadata": {},
   "outputs": [
    {
     "name": "stderr",
     "output_type": "stream",
     "text": [
      "/home/zhreyas/miniconda3/envs/torch/lib/python3.11/site-packages/tqdm/auto.py:21: TqdmWarning: IProgress not found. Please update jupyter and ipywidgets. See https://ipywidgets.readthedocs.io/en/stable/user_install.html\n",
      "  from .autonotebook import tqdm as notebook_tqdm\n",
      "2025-03-10 20:58:58.614569: E external/local_xla/xla/stream_executor/cuda/cuda_fft.cc:477] Unable to register cuFFT factory: Attempting to register factory for plugin cuFFT when one has already been registered\n",
      "WARNING: All log messages before absl::InitializeLog() is called are written to STDERR\n",
      "E0000 00:00:1741620538.633280 1129096 cuda_dnn.cc:8310] Unable to register cuDNN factory: Attempting to register factory for plugin cuDNN when one has already been registered\n",
      "E0000 00:00:1741620538.638696 1129096 cuda_blas.cc:1418] Unable to register cuBLAS factory: Attempting to register factory for plugin cuBLAS when one has already been registered\n",
      "2025-03-10 20:58:58.658981: I tensorflow/core/platform/cpu_feature_guard.cc:210] This TensorFlow binary is optimized to use available CPU instructions in performance-critical operations.\n",
      "To enable the following instructions: AVX2 FMA, in other operations, rebuild TensorFlow with the appropriate compiler flags.\n",
      "INFO:datasets:PyTorch version 2.5.0 available.\n",
      "INFO:datasets:TensorFlow version 2.18.0 available.\n",
      "INFO:datasets:JAX version 0.5.2 available.\n",
      "INFO:SRSWTI:SRSWTI Text Analysis Engine initialized successfully\n"
     ]
    },
    {
     "data": {
      "text/html": [
       "<pre style=\"white-space:pre;overflow-x:auto;line-height:normal;font-family:Menlo,'DejaVu Sans Mono',consolas,'Courier New',monospace\"></pre>\n"
      ],
      "text/plain": []
     },
     "metadata": {},
     "output_type": "display_data"
    }
   ],
   "source": [
    "# ---------------------------  Imports ------------------------------\n",
    "from srswti_axis import SRSWTIMultilingualTranslator\n",
    "from utils import *"
   ]
  },
  {
   "cell_type": "markdown",
   "metadata": {},
   "source": [
    "# ---------------------------  Basic Demos ------------------------\n"
   ]
  },
  {
   "cell_type": "code",
   "execution_count": null,
   "metadata": {},
   "outputs": [
    {
     "name": "stderr",
     "output_type": "stream",
     "text": [
      "INFO:SRSWTI-Multilingual-Translator:Initializing SRSWTI Multilingual Translator on cuda\n"
     ]
    }
   ],
   "source": [
    "# Initialize the translator\n",
    "translator = SRSWTIMultilingualTranslator()"
   ]
  },
  {
   "cell_type": "code",
   "execution_count": 4,
   "metadata": {},
   "outputs": [
    {
     "name": "stderr",
     "output_type": "stream",
     "text": [
      "Device set to use cuda\n"
     ]
    },
    {
     "name": "stdout",
     "output_type": "stream",
     "text": [
      "== Translation 1 ==\n",
      "{'metadata': {'device': 'CUDA',\n",
      "              'model': 'SRSWTI-Multilingual-en-fr',\n",
      "              'processing_time': 363.3022,\n",
      "              'source_language': 'English',\n",
      "              'target_language': 'French',\n",
      "              'timestamp': '2025-03-10 21:05:12'},\n",
      " 'translation': 'Bonjour, comment allez-vous ?'}\n"
     ]
    }
   ],
   "source": [
    "t1 = translator.translate_text(\"Hello world, how are you?\", src_lang=\"English\", tgt_lang=\"French\")\n",
    "print(\"== Translation 1 ==\")\n",
    "pprint(t1)"
   ]
  },
  {
   "cell_type": "code",
   "execution_count": null,
   "metadata": {},
   "outputs": [],
   "source": [
    "t3 = translator.translate_text(\"量子计算将对加密产生重大影响。\", src_lang=\"Chinese\", tgt_lang=\"English\")\n",
    "print(\"== Translation 3 ==\")\n",
    "pprint(t3)\n"
   ]
  },
  {
   "cell_type": "code",
   "execution_count": null,
   "metadata": {},
   "outputs": [],
   "source": [
    "t2 = translator.translate_text(\"La inteligencia artificial está transformando el mundo.\", \n",
    "                               src_lang=\"Spanish\", tgt_lang=\"English\")\n",
    "print(\"== Translation 2 ==\")\n",
    "pprint(t2)\n"
   ]
  },
  {
   "cell_type": "markdown",
   "metadata": {},
   "source": [
    "# -------------------  - RAG Demos ---------------------\n"
   ]
  },
  {
   "cell_type": "code",
   "execution_count": null,
   "metadata": {},
   "outputs": [],
   "source": [
    "def rag_demo(doc):\n",
    "    translated = translator.translate_text(doc, src_lang=\"English\", tgt_lang=\"French\")\n",
    "    prompt = f\"Translated doc:\\n{translated}\\nGive a summary in French.\"\n",
    "    resp = call_groq_llm(prompt)\n",
    "    print(\"[Theorem15 RAG Demo A] LLM:\\n\", resp, \"\\n\")\n"
   ]
  },
  {
   "cell_type": "code",
   "execution_count": null,
   "metadata": {},
   "outputs": [
    {
     "name": "stdout",
     "output_type": "stream",
     "text": [
      "[Theorem15 RAG Demo A] LLM:\n",
      " [Groq LLM] L'intégration de l'intelligence artificielle (IA) et de la technologie de chaîne de blocs offre divers avantages et défis. Les avantages incluent la création et la vérification de jetons non fongibles (NFT) uniques, la formation décentralisée de modèles d'IA, le déploiement de modèles d'IA sur des réseaux de chaînes de blocs pour une inférence transparente et vérifiable, ainsi que la gouvernance et les marchés de données décentralisés. Cependant, il existe des limites et des préoccupations, telles que les limitations computationnelles de l'infrastructure de chaîne de blocs, les problèmes de vie privée et l'incertitude réglementaire entourant les technologies d'IA génératives et de chaîne de blocs. Dans l'ensemble, l'intégration de l'IA et de la chaîne de blocs présente des opportunités prometteuses, mais nécessite une attention aux défis et aux considérations pour assurer un développement sécurisé et efficace. \n",
      "\n"
     ]
    }
   ],
   "source": [
    "rag_demo(SAMPLE_DOCS[1])"
   ]
  }
 ],
 "metadata": {
  "kernelspec": {
   "display_name": "torch",
   "language": "python",
   "name": "python3"
  },
  "language_info": {
   "codemirror_mode": {
    "name": "ipython",
    "version": 3
   },
   "file_extension": ".py",
   "mimetype": "text/x-python",
   "name": "python",
   "nbconvert_exporter": "python",
   "pygments_lexer": "ipython3",
   "version": "3.11.11"
  }
 },
 "nbformat": 4,
 "nbformat_minor": 2
}
