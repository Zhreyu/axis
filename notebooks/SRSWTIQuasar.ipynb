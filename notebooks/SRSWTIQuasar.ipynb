{
 "cells": [
  {
   "cell_type": "markdown",
   "metadata": {},
   "source": [
    "###############################################################################\n",
    "# SRSWTIQuasar\n",
    "###############################################################################\n"
   ]
  },
  {
   "cell_type": "code",
   "execution_count": null,
   "metadata": {},
   "outputs": [
    {
     "name": "stderr",
     "output_type": "stream",
     "text": [
      "/home/zhreyas/miniconda3/envs/torch/lib/python3.11/site-packages/tqdm/auto.py:21: TqdmWarning: IProgress not found. Please update jupyter and ipywidgets. See https://ipywidgets.readthedocs.io/en/stable/user_install.html\n",
      "  from .autonotebook import tqdm as notebook_tqdm\n",
      "2025-03-10 18:29:17.271935: E external/local_xla/xla/stream_executor/cuda/cuda_fft.cc:477] Unable to register cuFFT factory: Attempting to register factory for plugin cuFFT when one has already been registered\n",
      "WARNING: All log messages before absl::InitializeLog() is called are written to STDERR\n",
      "E0000 00:00:1741611557.291440 1031391 cuda_dnn.cc:8310] Unable to register cuDNN factory: Attempting to register factory for plugin cuDNN when one has already been registered\n",
      "E0000 00:00:1741611557.297091 1031391 cuda_blas.cc:1418] Unable to register cuBLAS factory: Attempting to register factory for plugin cuBLAS when one has already been registered\n",
      "2025-03-10 18:29:17.317949: I tensorflow/core/platform/cpu_feature_guard.cc:210] This TensorFlow binary is optimized to use available CPU instructions in performance-critical operations.\n",
      "To enable the following instructions: AVX2 FMA, in other operations, rebuild TensorFlow with the appropriate compiler flags.\n",
      "INFO:datasets:PyTorch version 2.5.0 available.\n",
      "INFO:datasets:TensorFlow version 2.18.0 available.\n",
      "INFO:datasets:JAX version 0.5.2 available.\n",
      "INFO:SRSWTI:SRSWTI Text Analysis Engine initialized successfully\n"
     ]
    },
    {
     "data": {
      "text/html": [
       "<pre style=\"white-space:pre;overflow-x:auto;line-height:normal;font-family:Menlo,'DejaVu Sans Mono',consolas,'Courier New',monospace\"></pre>\n"
      ],
      "text/plain": []
     },
     "metadata": {},
     "output_type": "display_data"
    }
   ],
   "source": [
    "# ---------------------------  Imports ------------------------------\n",
    "from srswti_axis import SRSWTIQuasar\n",
    "from utils import call_groq_llm, SAMPLE_DOCS"
   ]
  },
  {
   "cell_type": "markdown",
   "metadata": {},
   "source": [
    "# ---------------------------  Basic 3 Demos ------------------------"
   ]
  },
  {
   "cell_type": "code",
   "execution_count": null,
   "metadata": {},
   "outputs": [
    {
     "name": "stderr",
     "output_type": "stream",
     "text": [
      "INFO:srswti_axis.document.topic_modeling:Initializing topic modeling system with srswti_bi_encoder backend\n"
     ]
    }
   ],
   "source": [
    "quasar = SRSWTIQuasar(backend='srswti_bi_encoder', language='english')\n",
    "# UMAP NUMBER OF COMPONENTS IS DEFAULTED TO 5, THEREFORE THE NUMBER OF DOCUMENTS MUST BE GREATER THAN 5. \n",
    "docs_quasar = [\n",
    "    \"Advances in quantum computing for cryptography\",\n",
    "    \"Machine learning transforms finance and trading\",\n",
    "    \"Renewable energy solutions are expanding worldwide\",\n",
    "    \"Healthcare analytics leverages big data to improve outcomes\"\n",
    "    \"Advances in quantum computing for Deep Learning\" ,\n",
    "    \"Cricket analytics is transforming the game\",\n",
    "    \"Machine learning is revolutionizing healthcare\",\n",
    "    \"Quantum computing is the future of AI\",\n",
    "    \"The future of quantum computing is bright\",\n",
    "]"
   ]
  },
  {
   "cell_type": "code",
   "execution_count": null,
   "metadata": {},
   "outputs": [
    {
     "name": "stderr",
     "output_type": "stream",
     "text": [
      "2025-03-10 18:50:01,539 - BERTopic - Embedding - Transforming documents to embeddings.\n",
      "INFO:sentence_transformers.SentenceTransformer:Use pytorch device_name: cuda\n",
      "INFO:sentence_transformers.SentenceTransformer:Load pretrained SentenceTransformer: all-MiniLM-L6-v2\n",
      "Batches: 100%|██████████| 1/1 [00:00<00:00, 135.14it/s]\n",
      "2025-03-10 18:50:04,721 - BERTopic - Embedding - Completed ✓\n",
      "2025-03-10 18:50:04,722 - BERTopic - Dimensionality - Fitting the dimensionality reduction algorithm\n",
      "2025-03-10 18:50:05,337 - BERTopic - Dimensionality - Completed ✓\n",
      "2025-03-10 18:50:05,338 - BERTopic - Cluster - Start clustering the reduced embeddings\n",
      "2025-03-10 18:50:05,345 - BERTopic - Cluster - Completed ✓\n",
      "2025-03-10 18:50:05,346 - BERTopic - Representation - Extracting topics from clusters using representation models.\n",
      "2025-03-10 18:50:05,360 - BERTopic - Representation - Completed ✓\n",
      "2025-03-10 18:50:05,361 - BERTopic - Topic reduction - Reducing number of topics\n",
      "2025-03-10 18:50:05,362 - BERTopic - Topic reduction - Reduced number of topics from 2 to 2\n"
     ]
    },
    {
     "name": "stdout",
     "output_type": "stream",
     "text": [
      "== Quasar 1 ==\n",
      "{'topic_assignments': [0, 1, 1, 0, 1, 1, 0, 0], 'topic_probabilities': array([[1.00000000e+000, 4.50784552e-309],\n",
      "       [2.37599426e-001, 7.25091425e-001],\n",
      "       [5.18134364e-309, 1.00000000e+000],\n",
      "       [5.22188433e-001, 2.26716774e-001],\n",
      "       [5.09713610e-309, 1.00000000e+000],\n",
      "       [3.30791344e-001, 4.30334066e-001],\n",
      "       [6.05151435e-001, 2.40957711e-001],\n",
      "       [1.00000000e+000, 5.03454512e-309]])}\n",
      "\n"
     ]
    }
   ],
   "source": [
    "res_quasar_1 = quasar.fit_transform(docs_quasar, num_topics=2)\n",
    "print(\"== Quasar 1 ==\")\n",
    "print(res_quasar_1)\n",
    "print()"
   ]
  },
  {
   "cell_type": "code",
   "execution_count": 9,
   "metadata": {},
   "outputs": [
    {
     "name": "stdout",
     "output_type": "stream",
     "text": [
      "== Quasar 2: topic words ==\n",
      "{0: [('computing', np.float64(0.24464018137409832)), ('quantum', np.float64(0.24464018137409832)), ('future', np.float64(0.15929707065307117)), ('in', np.float64(0.15929707065307117)), ('of', np.float64(0.15929707065307117)), ('for', np.float64(0.15929707065307117)), ('the', np.float64(0.13737499504806097)), ('is', np.float64(0.12232009068704916)), ('cryptography', np.float64(0.099038112646661)), ('big', np.float64(0.099038112646661))], 1: [('machine', np.float64(0.23548262618280086)), ('learning', np.float64(0.20307607963626406)), ('is', np.float64(0.18082100362433354)), ('and', np.float64(0.14640416652115104)), ('revolutionizing', np.float64(0.14640416652115104)), ('worldwide', np.float64(0.14640416652115104)), ('renewable', np.float64(0.14640416652115104)), ('expanding', np.float64(0.14640416652115104)), ('finance', np.float64(0.14640416652115104)), ('game', np.float64(0.14640416652115104))]} \n",
      "\n",
      "== Quasar 3 ==\n",
      "Group docs -> LLM summary (placeholder)\n",
      "\n"
     ]
    }
   ],
   "source": [
    "topic_words_2 = quasar.get_topic_words(top_n=5)\n",
    "print(\"== Quasar 2: topic words ==\")\n",
    "print(topic_words_2, \"\\n\")\n",
    "\n",
    "print(\"== Quasar 3 ==\\nGroup docs -> LLM summary (placeholder)\\n\")\n"
   ]
  },
  {
   "cell_type": "markdown",
   "metadata": {},
   "source": [
    "# -------------------------------------- RAG DEMO -------------------------------"
   ]
  },
  {
   "cell_type": "code",
   "execution_count": null,
   "metadata": {},
   "outputs": [],
   "source": [
    "def rag_demo_a(docs=SAMPLE_DOCS):\n",
    "    quasar.fit_transform(docs, num_topics=1)\n",
    "    topics = quasar.get_topic_words(top_n=3)\n",
    "    prompt = f\"Detected topics: {topics}\\nGive a short overview.\"\n",
    "    resp = call_groq_llm(prompt)\n",
    "    print(\"[Theorem10 RAG Demo A] LLM:\\n\", resp, \"\\n\")\n",
    "\n",
    "def rag_demo_b(docs=SAMPLE_DOCS):\n",
    "    topic_assignment = quasar.fit_transform(docs, num_topics=2)\n",
    "    prompt = (\n",
    "        f\"Topic assignment: {topic_assignment}\\n\"\n",
    "        \"Explain each group in simple terms.\"\n",
    "    )\n",
    "    resp = call_groq_llm(prompt)\n",
    "    print(\"[Theorem10 RAG Demo B] LLM:\\n\", resp, \"\\n\")\n",
    "\n"
   ]
  },
  {
   "cell_type": "code",
   "execution_count": null,
   "metadata": {},
   "outputs": [
    {
     "name": "stderr",
     "output_type": "stream",
     "text": [
      "2025-03-10 18:51:06,949 - BERTopic - Embedding - Transforming documents to embeddings.\n",
      "Batches: 100%|██████████| 1/1 [00:00<00:00, 47.16it/s]\n",
      "2025-03-10 18:51:06,976 - BERTopic - Embedding - Completed ✓\n",
      "2025-03-10 18:51:06,976 - BERTopic - Dimensionality - Fitting the dimensionality reduction algorithm\n",
      "2025-03-10 18:51:06,990 - BERTopic - Dimensionality - Completed ✓\n",
      "2025-03-10 18:51:06,992 - BERTopic - Cluster - Start clustering the reduced embeddings\n",
      "2025-03-10 18:51:06,998 - BERTopic - Cluster - Completed ✓\n",
      "2025-03-10 18:51:06,999 - BERTopic - Representation - Extracting topics from clusters using representation models.\n",
      "2025-03-10 18:51:07,005 - BERTopic - Representation - Completed ✓\n",
      "2025-03-10 18:51:07,006 - BERTopic - Topic reduction - Reducing number of topics\n",
      "2025-03-10 18:51:07,007 - BERTopic - Topic reduction - Reduced number of topics from 2 to 2\n"
     ]
    },
    {
     "name": "stdout",
     "output_type": "stream",
     "text": [
      "[Theorem10 RAG Demo A] LLM:\n",
      " [Groq LLM] The detected topics appear to be related to emerging technologies, including computing, quantum technology, and machine learning. These topics are associated with concepts such as the future, innovation, and revolutionizing various fields, including finance and energy. Overall, the topics suggest a focus on cutting-edge technological advancements and their potential impact on the world. \n",
      "\n"
     ]
    }
   ],
   "source": [
    "rag_demo_a(docs_quasar)"
   ]
  },
  {
   "cell_type": "code",
   "execution_count": null,
   "metadata": {},
   "outputs": [
    {
     "name": "stderr",
     "output_type": "stream",
     "text": [
      "2025-03-10 18:51:17,356 - BERTopic - Embedding - Transforming documents to embeddings.\n",
      "Batches: 100%|██████████| 1/1 [00:00<00:00, 143.37it/s]\n",
      "2025-03-10 18:51:17,368 - BERTopic - Embedding - Completed ✓\n",
      "2025-03-10 18:51:17,369 - BERTopic - Dimensionality - Fitting the dimensionality reduction algorithm\n",
      "2025-03-10 18:51:17,382 - BERTopic - Dimensionality - Completed ✓\n",
      "2025-03-10 18:51:17,383 - BERTopic - Cluster - Start clustering the reduced embeddings\n",
      "2025-03-10 18:51:17,387 - BERTopic - Cluster - Completed ✓\n",
      "2025-03-10 18:51:17,387 - BERTopic - Representation - Extracting topics from clusters using representation models.\n",
      "2025-03-10 18:51:17,395 - BERTopic - Representation - Completed ✓\n",
      "2025-03-10 18:51:17,396 - BERTopic - Topic reduction - Reducing number of topics\n",
      "2025-03-10 18:51:17,398 - BERTopic - Topic reduction - Reduced number of topics from 2 to 2\n"
     ]
    },
    {
     "name": "stdout",
     "output_type": "stream",
     "text": [
      "[Theorem10 RAG Demo B] LLM:\n",
      " [Groq LLM] Based on the topic assignments and probabilities, we can break down the groups as follows:\n",
      "\n",
      "**Group 0:**\n",
      "- Document 1 has a 52.22% chance of being in this group and a 22.67% chance of being in Group 1.\n",
      "- Document 4 has a 60.51% chance of being in this group and a 24.10% chance of being in Group 1.\n",
      "- Document 8 has a 100% chance of being in this group.\n",
      "\n",
      "These documents are likely to be related to a specific topic or theme, which is distinct from Group 1. Documents 1 and 4 have some overlap with Group 1, but are more likely to belong to Group 0.\n",
      "\n",
      "**Group 1:**\n",
      "- Document 2 has a 27.59% chance of being in Group 0 and a 72.51% chance of being in this group.\n",
      "- Document 3 has a 100% chance of being in this group.\n",
      "- Document 5 has a 100% chance of being in this group.\n",
      "- Document 6 has a 33.08% chance of being in Group 0 and a 43.03% chance of being in this group (with the remaining percentage likely due to rounding errors).\n",
      "\n",
      "These documents are likely to be related to a different topic or theme, which is distinct from Group 0. Documents 2 and 6 have some overlap with Group 0, but are more likely to belong to Group 1. Documents 3 and 5 are very likely to be part of this group. \n",
      "\n"
     ]
    }
   ],
   "source": [
    "rag_demo_b(docs_quasar)\n"
   ]
  },
  {
   "cell_type": "code",
   "execution_count": null,
   "metadata": {},
   "outputs": [],
   "source": []
  }
 ],
 "metadata": {
  "kernelspec": {
   "display_name": "torch",
   "language": "python",
   "name": "python3"
  },
  "language_info": {
   "codemirror_mode": {
    "name": "ipython",
    "version": 3
   },
   "file_extension": ".py",
   "mimetype": "text/x-python",
   "name": "python",
   "nbconvert_exporter": "python",
   "pygments_lexer": "ipython3",
   "version": "3.11.11"
  }
 },
 "nbformat": 4,
 "nbformat_minor": 2
}
