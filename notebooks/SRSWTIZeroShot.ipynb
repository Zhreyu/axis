{
 "cells": [
  {
   "cell_type": "markdown",
   "metadata": {},
   "source": [
    "###############################################################################\n",
    "# SRSWTIZeroShot\n",
    "###############################################################################"
   ]
  },
  {
   "cell_type": "code",
   "execution_count": 2,
   "metadata": {},
   "outputs": [
    {
     "name": "stderr",
     "output_type": "stream",
     "text": [
      "/home/zhreyas/miniconda3/envs/torch/lib/python3.11/site-packages/tqdm/auto.py:21: TqdmWarning: IProgress not found. Please update jupyter and ipywidgets. See https://ipywidgets.readthedocs.io/en/stable/user_install.html\n",
      "  from .autonotebook import tqdm as notebook_tqdm\n",
      "2025-03-10 14:13:32.655324: E external/local_xla/xla/stream_executor/cuda/cuda_fft.cc:477] Unable to register cuFFT factory: Attempting to register factory for plugin cuFFT when one has already been registered\n",
      "WARNING: All log messages before absl::InitializeLog() is called are written to STDERR\n",
      "E0000 00:00:1741596212.674809  835955 cuda_dnn.cc:8310] Unable to register cuDNN factory: Attempting to register factory for plugin cuDNN when one has already been registered\n",
      "E0000 00:00:1741596212.680222  835955 cuda_blas.cc:1418] Unable to register cuBLAS factory: Attempting to register factory for plugin cuBLAS when one has already been registered\n",
      "2025-03-10 14:13:32.701035: I tensorflow/core/platform/cpu_feature_guard.cc:210] This TensorFlow binary is optimized to use available CPU instructions in performance-critical operations.\n",
      "To enable the following instructions: AVX2 FMA, in other operations, rebuild TensorFlow with the appropriate compiler flags.\n",
      "INFO:datasets:PyTorch version 2.5.0 available.\n",
      "INFO:datasets:TensorFlow version 2.18.0 available.\n",
      "INFO:datasets:JAX version 0.5.2 available.\n",
      "INFO:SRSWTI:SRSWTI Text Analysis Engine initialized successfully\n"
     ]
    },
    {
     "data": {
      "text/html": [
       "<pre style=\"white-space:pre;overflow-x:auto;line-height:normal;font-family:Menlo,'DejaVu Sans Mono',consolas,'Courier New',monospace\"></pre>\n"
      ],
      "text/plain": []
     },
     "metadata": {},
     "output_type": "display_data"
    }
   ],
   "source": [
    "# ---------------------------  Imports -------------------------------\n",
    "from srswti_axis import SRSWTIZeroShot\n",
    "from utils import call_groq_llm, SAMPLE_DOCS\n",
    "import random\n"
   ]
  },
  {
   "cell_type": "markdown",
   "metadata": {},
   "source": [
    "# --------------------------- Basic  Demos -------------------------"
   ]
  },
  {
   "cell_type": "code",
   "execution_count": 3,
   "metadata": {},
   "outputs": [
    {
     "name": "stderr",
     "output_type": "stream",
     "text": [
      "INFO:SRSWTI-ZeroShot:Initializing SRSWTI Zero-Shot Classifier on cuda with batch size None\n"
     ]
    },
    {
     "data": {
      "text/html": [
       "<pre style=\"white-space:pre;overflow-x:auto;line-height:normal;font-family:Menlo,'DejaVu Sans Mono',consolas,'Courier New',monospace\"><span style=\"color: #008000; text-decoration-color: #008000; font-weight: bold\">Initializing Zero-Shot Classifier on cuda with batch size </span><span style=\"color: #008000; text-decoration-color: #008000; font-weight: bold; font-style: italic\">None</span>\n",
       "</pre>\n"
      ],
      "text/plain": [
       "\u001b[1;32mInitializing Zero-Shot Classifier on cuda with batch size \u001b[0m\u001b[1;3;32mNone\u001b[0m\n"
      ]
     },
     "metadata": {},
     "output_type": "display_data"
    },
    {
     "name": "stderr",
     "output_type": "stream",
     "text": [
      "Device set to use cuda\n"
     ]
    }
   ],
   "source": [
    "# Initialize the zero-shot classifier\n",
    "zero_clf = SRSWTIZeroShot() "
   ]
  },
  {
   "cell_type": "code",
   "execution_count": 4,
   "metadata": {},
   "outputs": [
    {
     "name": "stderr",
     "output_type": "stream",
     "text": [
      "INFO:SRSWTI-ZeroShot:Classification completed in 0.3586 seconds\n"
     ]
    },
    {
     "name": "stdout",
     "output_type": "stream",
     "text": [
      "== ZeroShot Example 1: Single-label ==\n",
      "{'technology': 0.7873777151107788, 'medical': 0.2109856754541397, 'finance': 0.001636624918319285} \n",
      "\n"
     ]
    }
   ],
   "source": [
    "# 1) Basic single-label classification\n",
    "text_1 = \"The new AI model is highly efficient in diagnosing lung cancer.\"\n",
    "labels_1 = [\"medical\", \"finance\", \"technology\"]\n",
    "res_1 = zero_clf.classify_text(text_1, labels_1, multi_label=False)\n",
    "print(\"== ZeroShot Example 1: Single-label ==\")\n",
    "print(res_1, \"\\n\")\n"
   ]
  },
  {
   "cell_type": "code",
   "execution_count": 5,
   "metadata": {},
   "outputs": [
    {
     "name": "stderr",
     "output_type": "stream",
     "text": [
      "INFO:SRSWTI-ZeroShot:Classification completed in 0.0789 seconds\n"
     ]
    },
    {
     "name": "stdout",
     "output_type": "stream",
     "text": [
      "== ZeroShot Example 2: Multi-label ==\n",
      "{'blockchain': 0.9970793724060059, 'cost_reduction': 0.9904685616493225, 'healthcare': 0.9878616333007812, 'product_review': 0.019475707784295082} \n",
      "\n"
     ]
    }
   ],
   "source": [
    "# 2) Multi-label classification with domain-specific categories\n",
    "text_2 = \"We used blockchain to secure medical records and reduce cost inefficiency.\"\n",
    "labels_2 = [\"healthcare\", \"blockchain\", \"cost_reduction\", \"product_review\"]\n",
    "res_2 = zero_clf.classify_text(text_2, labels_2, multi_label=True)\n",
    "print(\"== ZeroShot Example 2: Multi-label ==\")\n",
    "print(res_2, \"\\n\")\n"
   ]
  },
  {
   "cell_type": "code",
   "execution_count": 6,
   "metadata": {},
   "outputs": [
    {
     "name": "stderr",
     "output_type": "stream",
     "text": [
      "INFO:SRSWTI-ZeroShot:Classification completed in 0.0760 seconds\n"
     ]
    },
    {
     "name": "stdout",
     "output_type": "stream",
     "text": [
      "== ZeroShot Example 3 (RAG context) ==\n",
      "{'medical': 0.9972496628761292, 'supply_chain': 0.8747292757034302, 'blockchain': 0.7565616965293884, 'education': 4.034030280308798e-05} \n",
      "\n"
     ]
    }
   ],
   "source": [
    "# 3) Zero-Shot in a RAG-like scenario\n",
    "retrieved_doc_snippet = \"Ethereum smart contracts improved supply chain operations for hospitals.\"\n",
    "labels_3 = [\"medical\", \"blockchain\", \"supply_chain\", \"education\"]\n",
    "res_3 = zero_clf.classify_text(retrieved_doc_snippet, labels_3, multi_label=True)\n",
    "print(\"== ZeroShot Example 3 (RAG context) ==\")\n",
    "print(res_3, \"\\n\")"
   ]
  },
  {
   "cell_type": "markdown",
   "metadata": {},
   "source": [
    "# ------------------- LLM + RAG Demos ----------------------"
   ]
  },
  {
   "cell_type": "code",
   "execution_count": 7,
   "metadata": {},
   "outputs": [],
   "source": [
    "def rag_demo_a(user_query, docs=SAMPLE_DOCS):\n",
    "    \"\"\"\n",
    "    1) We pick a doc (e.g. random) from docs.\n",
    "    2) Zero-shot classify it.\n",
    "    3) Feed classification + doc snippet to Groq LLM for explanation.\n",
    "    \"\"\"\n",
    "    if not docs:\n",
    "        print(\"[RAG Demo A] No docs loaded.\")\n",
    "        return\n",
    "\n",
    "    chosen_doc = random.choice(docs)\n",
    "    print(f\"[RAG Demo A] Chosen doc for '{user_query}':\", chosen_doc)\n",
    "\n",
    "    labels_demo = [\"neural networks\", \"classical ml\", \"blockchain\", \"quantum\"]\n",
    "    classification = zero_clf.classify_text(chosen_doc, labels_demo, multi_label=True)\n",
    "\n",
    "    prompt = (\n",
    "        f\"User asked: '{user_query}'\\n\\n\"\n",
    "        f\"Relevant doc snippet:\\n{chosen_doc}\\n\\n\"\n",
    "        f\"Classification: {classification}\\n\"\n",
    "        \"Provide a short explanation.\"\n",
    "    )\n",
    "    llm_response = call_groq_llm(prompt)\n",
    "    print(llm_response, \"\\n\")\n",
    "\n",
    "def rag_demo_b(user_query, docs=SAMPLE_DOCS):\n",
    "    \"\"\"\n",
    "    1) Classify each doc with zero-shot.\n",
    "    2) Filter docs that have label 'blockchain' > 0.5\n",
    "    3) Summarize or respond with Groq LLM.\n",
    "    \"\"\"\n",
    "    if not docs:\n",
    "        print(\"[RAG Demo B] No docs loaded.\")\n",
    "        return\n",
    "\n",
    "    matching_docs = []\n",
    "    for d in docs:\n",
    "        labels_demo = [\"blockchain\", \"medical\", \"ai\", \"quantum\"]\n",
    "        class_res = zero_clf.classify_text(d, labels_demo, multi_label=True)\n",
    "        if class_res.get(\"blockchain\", 0) > 0.5:\n",
    "            matching_docs.append(d)\n",
    "\n",
    "    combined_info = \"\\n\".join(matching_docs) if matching_docs else \"No blockchain doc found.\"\n",
    "    prompt = (\n",
    "        f\"User asked: '{user_query}'\\n\\n\"\n",
    "        f\"Found docs labeled 'blockchain' above 0.5:\\n{combined_info}\\n\"\n",
    "        \"Explain how this is relevant to the query.\"\n",
    "    )\n",
    "    llm_response = call_groq_llm(prompt)\n",
    "    print(\"[RAG Demo B] Matching docs:\", matching_docs)\n",
    "    print(llm_response, \"\\n\")\n",
    "\n",
    "\n"
   ]
  },
  {
   "cell_type": "code",
   "execution_count": 8,
   "metadata": {},
   "outputs": [
    {
     "name": "stdout",
     "output_type": "stream",
     "text": [
      "[RAG Demo A] Chosen doc for 'Any references to AI solutions?': Quantum computing represents a revolutionary approach to computation that harnesses the principles of quantum mechanics. Unlike classical computers that use bits (0s and 1s), quantum computers utilize quantum bits or qubits that can exist in multiple states simultaneously through superposition. This fundamental difference enables quantum computers to perform certain calculations exponentially faster than their classical counterparts, particularly in areas like factoring large numbers, searching unsorted databases, and simulating quantum systems.\n",
      "\n",
      "The potential impact of quantum computing extends across numerous fields, including cryptography, drug discovery, materials science, and artificial intelligence. In cryptography specifically, algorithms like Shor's could theoretically break widely-used encryption schemes that rely on the difficulty of factoring large prime numbers. This has spurred the development of post-quantum cryptography methods designed to withstand quantum attacks. Despite these concerns, practical quantum computers capable of breaking current encryption are likely still years away from reality.\n",
      "\n",
      "Current quantum computing systems face significant challenges including qubit stability, error correction, and scaling issues. Quantum decoherence—where qubits lose their quantum properties through interaction with the environment—remains a substantial obstacle. Companies like IBM, Google, and startups such as Rigetti are racing to build more powerful quantum processors with increasing qubit counts and better coherence times. While quantum supremacy demonstrations have shown promise, building fault-tolerant, general-purpose quantum computers remains an ongoing scientific and engineering challenge requiring breakthroughs in both hardware and software.\n"
     ]
    },
    {
     "name": "stderr",
     "output_type": "stream",
     "text": [
      "INFO:SRSWTI-ZeroShot:Classification completed in 0.2228 seconds\n"
     ]
    },
    {
     "name": "stdout",
     "output_type": "stream",
     "text": [
      "[Groq LLM] There is a reference to artificial intelligence (AI) in the document, but it is brief. The text mentions that quantum computing has the potential to impact numerous fields, including artificial intelligence. However, it does not provide any further details on how quantum computing relates to AI or what specific AI solutions are being developed. The classification results also show a relatively low score for 'classical ml' (0.0478) and 'neural networks' (0.2297), suggesting that AI is not a primary focus of the document. \n",
      "\n"
     ]
    }
   ],
   "source": [
    "rag_demo_a(\"Any references to AI solutions?\", SAMPLE_DOCS)"
   ]
  },
  {
   "cell_type": "code",
   "execution_count": 9,
   "metadata": {},
   "outputs": [
    {
     "name": "stderr",
     "output_type": "stream",
     "text": [
      "INFO:SRSWTI-ZeroShot:Classification completed in 0.1802 seconds\n",
      "INFO:SRSWTI-ZeroShot:Classification completed in 0.1769 seconds\n",
      "INFO:SRSWTI-ZeroShot:Classification completed in 0.2158 seconds\n"
     ]
    },
    {
     "name": "stdout",
     "output_type": "stream",
     "text": [
      "[RAG Demo B] Matching docs: ['## Generative AI and Blockchain Integration\\n\\n### 1. NFT Creation and Verification\\n- Generative AI creates unique digital assets that can be minted as NFTs\\n- Smart contracts can verify the authenticity and provenance of AI-generated art\\n\\n### 2. Decentralized AI Training\\n- Blockchain-based platforms enable distributed training of AI models\\n- Token incentives for contributing computing resources or training data\\n\\n### 3. On-chain AI Models\\n- AI models deployed directly on blockchain networks\\n- Enables transparent, verifiable AI inference with immutable records\\n\\n### 4. Governance and Data Marketplaces\\n- DAOs (Decentralized Autonomous Organizations) for governing AI systems\\n- Decentralized data marketplaces for training AI with fair compensation to data owners\\n\\n### 5. Challenges and Considerations\\n- Computational limitations of current blockchain infrastructure\\n- Privacy concerns when combining transparent ledgers with AI capability\\n- Regulatory uncertainty around both generative AI and blockchain technologies']\n",
      "[Groq LLM] This document is highly relevant to the query about blockchain references. The entire document is dedicated to the integration of generative AI and blockchain technology, covering various aspects of their intersection. \n",
      "\n",
      "The document discusses five key areas where blockchain and AI converge:\n",
      "\n",
      "1. **NFT Creation and Verification**: Using blockchain to verify the authenticity and provenance of AI-generated art.\n",
      "2. **Decentralized AI Training**: Leveraging blockchain-based platforms for distributed AI model training, with token incentives for contributors.\n",
      "3. **On-chain AI Models**: Deploying AI models directly on blockchain networks for transparent and verifiable AI inference.\n",
      "4. **Governance and Data Marketplaces**: Utilizing DAOs (Decentralized Autonomous Organizations) for governing AI systems and creating decentralized data marketplaces.\n",
      "5. **Challenges and Considerations**: Addressing the computational limitations, privacy concerns, and regulatory uncertainties surrounding the combination of blockchain and AI technologies.\n",
      "\n",
      "The extensive coverage of blockchain applications in these areas makes this document a valuable resource for anyone interested in the intersection of blockchain and AI. \n",
      "\n"
     ]
    }
   ],
   "source": [
    "rag_demo_b(\"Any references to blockchain?\", SAMPLE_DOCS)\n"
   ]
  }
 ],
 "metadata": {
  "kernelspec": {
   "display_name": "torch",
   "language": "python",
   "name": "python3"
  },
  "language_info": {
   "codemirror_mode": {
    "name": "ipython",
    "version": 3
   },
   "file_extension": ".py",
   "mimetype": "text/x-python",
   "name": "python",
   "nbconvert_exporter": "python",
   "pygments_lexer": "ipython3",
   "version": "3.11.11"
  }
 },
 "nbformat": 4,
 "nbformat_minor": 2
}
