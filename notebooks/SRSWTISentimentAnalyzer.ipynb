{
 "cells": [
  {
   "cell_type": "markdown",
   "metadata": {},
   "source": [
    "###############################################################################\n",
    "# SRSWTISentimentAnalyzer\n",
    "###############################################################################\n"
   ]
  },
  {
   "cell_type": "code",
   "execution_count": null,
   "metadata": {},
   "outputs": [
    {
     "name": "stderr",
     "output_type": "stream",
     "text": [
      "/home/zhreyas/miniconda3/envs/torch/lib/python3.11/site-packages/tqdm/auto.py:21: TqdmWarning: IProgress not found. Please update jupyter and ipywidgets. See https://ipywidgets.readthedocs.io/en/stable/user_install.html\n",
      "  from .autonotebook import tqdm as notebook_tqdm\n",
      "2025-03-10 20:19:52.524146: E external/local_xla/xla/stream_executor/cuda/cuda_fft.cc:477] Unable to register cuFFT factory: Attempting to register factory for plugin cuFFT when one has already been registered\n",
      "WARNING: All log messages before absl::InitializeLog() is called are written to STDERR\n",
      "E0000 00:00:1741618192.546250 1103118 cuda_dnn.cc:8310] Unable to register cuDNN factory: Attempting to register factory for plugin cuDNN when one has already been registered\n",
      "E0000 00:00:1741618192.551967 1103118 cuda_blas.cc:1418] Unable to register cuBLAS factory: Attempting to register factory for plugin cuBLAS when one has already been registered\n",
      "2025-03-10 20:19:52.574492: I tensorflow/core/platform/cpu_feature_guard.cc:210] This TensorFlow binary is optimized to use available CPU instructions in performance-critical operations.\n",
      "To enable the following instructions: AVX2 FMA, in other operations, rebuild TensorFlow with the appropriate compiler flags.\n",
      "INFO:datasets:PyTorch version 2.5.0 available.\n",
      "INFO:datasets:TensorFlow version 2.18.0 available.\n",
      "INFO:datasets:JAX version 0.5.2 available.\n",
      "INFO:SRSWTI:SRSWTI Text Analysis Engine initialized successfully\n"
     ]
    },
    {
     "data": {
      "text/html": [
       "<pre style=\"white-space:pre;overflow-x:auto;line-height:normal;font-family:Menlo,'DejaVu Sans Mono',consolas,'Courier New',monospace\"></pre>\n"
      ],
      "text/plain": []
     },
     "metadata": {},
     "output_type": "display_data"
    }
   ],
   "source": [
    "# ---------------------------  Imports ------------------------------\n",
    "from srswti_axis import SRSWTISentimentAnalyzer\n",
    "from utils import *"
   ]
  },
  {
   "cell_type": "markdown",
   "metadata": {},
   "source": [
    "# ---------------------------  Basic Demos ------------------------\n"
   ]
  },
  {
   "cell_type": "code",
   "execution_count": null,
   "metadata": {},
   "outputs": [],
   "source": [
    "# Initialize the sentiment analyzer\n",
    "sent_analyzer = SRSWTISentimentAnalyzer()"
   ]
  },
  {
   "cell_type": "code",
   "execution_count": 5,
   "metadata": {},
   "outputs": [
    {
     "name": "stdout",
     "output_type": "stream",
     "text": [
      "== Sentiment 1 ==\n",
      "{'overall': {'sentiment': {'compound': 0.6989, 'positive': 0.489, 'negative': 0.0, 'neutral': 0.511}, 'text_stats': {'sentence_count': 1, 'word_count': 9, 'avg_sentence_length': 9.0}}, 'sentences': [{'text': \"I absolutely love the new camera's features!\", 'sentiment': SRSWTISentiment(compound=0.6989, positive=0.489, negative=0.0, neutral=0.511), 'intensifiers': [{'intensifier': 'absolutely', 'modified_word': 'love'}], 'length': 9}], 'aspects': {}, 'summary': 'The overall sentiment is very positive'} \n",
      "\n"
     ]
    }
   ],
   "source": [
    "txt_s1 = \"I absolutely love the new camera's features!\"\n",
    "print(\"== Sentiment 1 ==\")\n",
    "print(sent_analyzer.analyze(txt_s1), \"\\n\")\n"
   ]
  },
  {
   "cell_type": "code",
   "execution_count": null,
   "metadata": {},
   "outputs": [
    {
     "name": "stdout",
     "output_type": "stream",
     "text": [
      "== Sentiment 2 ==\n",
      "{'overall': {'sentiment': {'compound': 0.8847, 'positive': 0.438, 'negative': 0.0, 'neutral': 0.562}, 'text_stats': {'sentence_count': 1, 'word_count': 15, 'avg_sentence_length': 15.0}}, 'sentences': [{'text': 'The restaurant was expensive but the service was friendly and the food was delicious.', 'sentiment': SRSWTISentiment(compound=0.8847, positive=0.438, negative=0.0, neutral=0.562), 'intensifiers': [], 'length': 15}], 'aspects': {'food': {'mentions': [{'text': 'food', 'sentiment_score': 0.8847, 'context': 'The restaurant was expensive but the service was friendly and the food was delicious.', 'position': (8, 15), 'modifiers': ['friendly', 'delicious']}]}, 'service': {'mentions': [{'text': 'service', 'sentiment_score': 0.8847, 'context': 'The restaurant was expensive but the service was friendly and the food was delicious.', 'position': (3, 10), 'modifiers': ['expensive', 'friendly']}]}}, 'summary': 'The overall sentiment is very positive. food is mentioned 1 times and is generally positive. service is mentioned 1 times and is generally positive'} \n",
      "\n"
     ]
    }
   ],
   "source": [
    "# Define a sample text about a restaurant experience\n",
    "txt_s2 = \"The restaurant was expensive but the service was friendly and the food was delicious.\"\n",
    "\n",
    "# Print a heading for this sentiment analysis example\n",
    "print(\"== Sentiment 2 ==\")\n",
    "\n",
    "# Analyze the sentiment of the text with specific aspects and domain\n",
    "# - aspects=[\"food\",\"service\"]: Focus analysis on these specific aspects\n",
    "# - domain=\"restaurant\": Provide context that we're analyzing restaurant reviews\n",
    "# This will return sentiment scores for the overall text and the specified aspects\n",
    "print(sent_analyzer.analyze(txt_s2, aspects=[\"food\",\"service\"], domain=\"restaurant\"), \"\\n\")"
   ]
  },
  {
   "cell_type": "code",
   "execution_count": 7,
   "metadata": {},
   "outputs": [
    {
     "name": "stdout",
     "output_type": "stream",
     "text": [
      "== Sentiment 3 ==\n",
      "{'overall': {'sentiment': {'compound': 0.631, 'positive': 0.32, 'negative': 0.126, 'neutral': 0.554}, 'text_stats': {'sentence_count': 1, 'word_count': 13, 'avg_sentence_length': 13.0}}, 'sentences': [{'text': 'The laptop battery is terrible, but the CPU speed is amazing.', 'sentiment': SRSWTISentiment(compound=0.631, positive=0.32, negative=0.126, neutral=0.554), 'intensifiers': [], 'length': 13}], 'aspects': {'battery': {'mentions': [{'text': 'battery', 'sentiment_score': 0.631, 'context': 'The laptop battery is terrible, but the CPU speed is amazing.', 'position': (0, 6), 'modifiers': ['laptop', 'terrible']}]}, 'CPU': {'mentions': [{'text': 'CPU', 'sentiment_score': 0.631, 'context': 'The laptop battery is terrible, but the CPU speed is amazing.', 'position': (5, 12), 'modifiers': []}]}}, 'summary': 'The overall sentiment is very positive. battery is mentioned 1 times and is generally positive. CPU is mentioned 1 times and is generally positive'} \n",
      "\n"
     ]
    }
   ],
   "source": [
    "txt_s3 = \"The laptop battery is terrible, but the CPU speed is amazing.\"\n",
    "print(\"== Sentiment 3 ==\")\n",
    "print(sent_analyzer.analyze(txt_s3, aspects=[\"battery\",\"CPU\"], domain=\"product\"), \"\\n\")"
   ]
  },
  {
   "cell_type": "markdown",
   "metadata": {},
   "source": [
    "# ------------------- RAG Demos ---------------------\n"
   ]
  },
  {
   "cell_type": "code",
   "execution_count": null,
   "metadata": {},
   "outputs": [],
   "source": [
    "def rag_demo_a(docs=SAMPLE_DOCS):\n",
    "    \"\"\"\n",
    "    Demonstrates RAG (Retrieval-Augmented Generation) functionality by analyzing sentiment\n",
    "    of a collection of documents and using an LLM to provide an overall sentiment summary.\n",
    "    \n",
    "    Args:\n",
    "        docs (list): A list of text documents to analyze. Defaults to SAMPLE_DOCS.\n",
    "        \n",
    "    Returns:\n",
    "        None: Results are printed to standard output.\n",
    "    \"\"\"\n",
    "    if not docs:\n",
    "        print(\"[Theorem13 RAG Demo A] No docs.\")\n",
    "        return\n",
    "    sentiments = [(d, sent_analyzer.analyze(d)) for d in docs]\n",
    "    prompt = f\"Docs with sentiment:\\n{sentiments}\\nProvide an overall sentiment analysis.\"\n",
    "    resp = call_groq_llm(prompt)\n",
    "    print(\"[Theorem13 RAG Demo A] LLM:\\n\", resp, \"\\n\")\n",
    "\n",
    "def rag_demo_b(user_query, docs=SAMPLE_DOCS):\n",
    "    \"\"\"\n",
    "    Demonstrates RAG functionality by selecting a random document, analyzing its sentiment,\n",
    "    and using an LLM to generate a response to the user query with sentiment context.\n",
    "    \n",
    "    Args:\n",
    "        user_query (str): The query from the user to answer.\n",
    "        docs (list): A list of text documents from which to select. Defaults to SAMPLE_DOCS.\n",
    "        \n",
    "    Returns:\n",
    "        None: Results are printed to standard output.\n",
    "    \"\"\"\n",
    "    if not docs:\n",
    "        print(\"[Theorem13 RAG Demo B] No docs.\")\n",
    "        return\n",
    "    chosen_doc = random.choice(docs)\n",
    "    sentiment = sent_analyzer.analyze(chosen_doc)\n",
    "    prompt = (\n",
    "        f\"User query: {user_query}\\nChosen doc:\\n{chosen_doc}\\n\"\n",
    "        f\"Sentiment: {sentiment}\\nConstruct an answer referencing sentiment.\"\n",
    "    )\n",
    "    resp = call_groq_llm(prompt)\n",
    "    print(\"[Theorem13 RAG Demo B] LLM:\\n\", resp, \"\\n\")"
   ]
  },
  {
   "cell_type": "code",
   "execution_count": null,
   "metadata": {},
   "outputs": [
    {
     "name": "stdout",
     "output_type": "stream",
     "text": [
      "[Theorem13 RAG Demo A] LLM:\n",
      " [Groq LLM] Based on the provided text data, here's an overall sentiment analysis:\n",
      "\n",
      "1. The first document, \"Neural Networks: An Overview\", has a very positive overall sentiment with a compound score of 0.953. The text discusses the concept, types, and applications of neural networks, highlighting their potential and importance in artificial intelligence.\n",
      "\n",
      "2. The second document, \"Generative AI and Blockchain Integration\", also has a very positive overall sentiment with a compound score of 0.8442. The text explores the integration of generative AI and blockchain, discussing potential applications and benefits.\n",
      "\n",
      "3. The third document, \"Quantum Computing\", has a very positive overall sentiment with a compound score of 0.9335. The text introduces the concept of quantum computing, its potential impact on various fields, and the challenges it faces.\n",
      "\n",
      "Overall, the sentiment analysis of the three documents shows a predominantly positive tone, indicating enthusiasm and optimism about the topics of neural networks, generative AI and blockchain integration, and quantum computing. The average compound sentiment score of the three documents is 0.9102, which suggests a very positive overall sentiment.\n",
      "\n",
      "However, it's worth noting that some sentences within the documents express neutral or slightly negative sentiments, often related to challenges, concerns, or limitations. Nevertheless, the overall tone remains positive, reflecting the potential and promise of these emerging technologies. \n",
      "\n"
     ]
    }
   ],
   "source": [
    "rag_demo_a(SAMPLE_DOCS)\n"
   ]
  },
  {
   "cell_type": "code",
   "execution_count": null,
   "metadata": {},
   "outputs": [
    {
     "name": "stdout",
     "output_type": "stream",
     "text": [
      "[Theorem13 RAG Demo B] LLM:\n",
      " [Groq LLM] The overall sentiment towards AI in the provided text is very positive, with a compound sentiment score of 0.8442. The text highlights the potential benefits and opportunities of integrating generative AI and blockchain technologies, such as creating unique digital assets, enabling decentralized AI training, and providing transparent and verifiable AI inference. While there are some challenges and considerations mentioned, such as computational limitations and privacy concerns, the overall tone of the text is optimistic and enthusiastic about the potential of AI. \n",
      "\n"
     ]
    }
   ],
   "source": [
    "rag_demo_b(\"Are people positive about AI?\", SAMPLE_DOCS)\n"
   ]
  }
 ],
 "metadata": {
  "kernelspec": {
   "display_name": "torch",
   "language": "python",
   "name": "python3"
  },
  "language_info": {
   "codemirror_mode": {
    "name": "ipython",
    "version": 3
   },
   "file_extension": ".py",
   "mimetype": "text/x-python",
   "name": "python",
   "nbconvert_exporter": "python",
   "pygments_lexer": "ipython3",
   "version": "3.11.11"
  }
 },
 "nbformat": 4,
 "nbformat_minor": 2
}
